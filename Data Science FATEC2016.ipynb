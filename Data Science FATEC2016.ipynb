{
 "cells": [
  {
   "cell_type": "markdown",
   "metadata": {
    "slideshow": {
     "slide_type": "slide"
    }
   },
   "source": [
    "Introduction to Data Science and Intel DAAL\n",
    "===========================================\n",
    "\n",
    "Raphael Mendes de Oliveira Cóbe\n",
    "\n",
    "rmcobe@ncc.unesp.br\n",
    "\n"
   ]
  },
  {
   "cell_type": "markdown",
   "metadata": {
    "slideshow": {
     "slide_type": "subslide"
    }
   },
   "source": [
    "# NCC/Unesp\n",
    "\n",
    "* GridUnesp\n",
    "    * 256 WorkerNodes\n",
    "    \n",
    "* Sprace\n",
    "    * Tier-2 Cern\n",
    "    * 1PB Raw Data"
   ]
  },
  {
   "cell_type": "markdown",
   "metadata": {
    "slideshow": {
     "slide_type": "slide"
    }
   },
   "source": [
    "# Data Science\n",
    "\n",
    "* Recently open field that put together lots of concepts of other fields, such as:\n",
    "  * Data Mining;\n",
    "  * Data Cleaning;"
   ]
  },
  {
   "cell_type": "markdown",
   "metadata": {
    "slideshow": {
     "slide_type": "slide"
    }
   },
   "source": [
    "# Data Management\n",
    "\n",
    "* Data Table\n",
    "<center><img src=\"datatable.png\" width=400 /></center>"
   ]
  }
 ],
 "metadata": {
  "celltoolbar": "Slideshow",
  "kernelspec": {
   "display_name": "Python 3",
   "language": "python",
   "name": "python3"
  },
  "language_info": {
   "codemirror_mode": {
    "name": "ipython",
    "version": 3
   },
   "file_extension": ".py",
   "mimetype": "text/x-python",
   "name": "python",
   "nbconvert_exporter": "python",
   "pygments_lexer": "ipython3",
   "version": "3.5.1"
  }
 },
 "nbformat": 4,
 "nbformat_minor": 0
}
