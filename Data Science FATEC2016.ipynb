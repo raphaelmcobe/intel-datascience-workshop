{
 "cells": [
  {
   "cell_type": "markdown",
   "metadata": {
    "slideshow": {
     "slide_type": "slide"
    }
   },
   "source": [
    "Introduction to Data Science and Intel DAAL\n",
    "===========================================\n",
    "\n",
    "\n",
    "Raphael Mendes de Oliveira Cóbe\n",
    "\n",
    "rmcobe@ncc.unesp.br"
   ]
  },
  {
   "cell_type": "markdown",
   "metadata": {
    "slideshow": {
     "slide_type": "subslide"
    }
   },
   "source": [
    "# NCC/Unesp\n",
    "\n",
    "* GridUnesp\n",
    "    * 256 WorkerNodes\n",
    "    \n",
    "* Sprace\n",
    "    * Tier-2 Cern\n",
    "    * 1PB Raw Data"
   ]
  },
  {
   "cell_type": "markdown",
   "metadata": {
    "slideshow": {
     "slide_type": "slide"
    }
   },
   "source": [
    "# Data Science\n",
    "\n",
    "* Recently open field that put together lots of concepts of other fields, such as:\n",
    "  * Data Mining;\n",
    "  * Data Cleaning;"
   ]
  },
  {
   "cell_type": "markdown",
   "metadata": {
    "slideshow": {
     "slide_type": "slide"
    }
   },
   "source": [
    "# Intel Data Analytics Acceleration Library\n",
    "* Delivers high application performance across spectrum of Intel®-architecture devices\n",
    "* Speeds time-to-value through data source and environment integration \n",
    "* Reduces application development time via wide selection of pre-optimized advanced analytics algorithms"
   ]
  },
  {
   "cell_type": "markdown",
   "metadata": {
    "slideshow": {
     "slide_type": "slide"
    }
   },
   "source": [
    "# Data Management\n",
    "\n",
    "* Data Table\n",
    "<center><img src=\"datatable.png\" width=400 style=\"transform:rotate(90deg);\"/></center>"
   ]
  },
  {
   "cell_type": "markdown",
   "metadata": {
    "slideshow": {
     "slide_type": "subslide"
    }
   },
   "source": [
    "# Data Management and Data Structures\n",
    "\n",
    "* **Heterogeneous Tables** are used when there are multiple data types in a data set (e.g.double, string, etc.) \n",
    "    * Structures supported: **Structures of Arrays (SoA)** and **Arrays of Structures (AoS)**. \n",
    "* **Homogeneous Tables** are used when the data set has only one type of data. \n",
    "    * Two types of homogeneous tables: **dense** and **sparse**. \n",
    "* **Matrices** are used when the application requires matrix algebra type workloads\n",
    "    * Three kinds of matrices supported: **dense matrix**, **packed symmetric matrix**, and **packed triangular matri-ces**. \n",
    "\n",
    "\n"
   ]
  },
  {
   "cell_type": "markdown",
   "metadata": {
    "slideshow": {
     "slide_type": "subslide"
    }
   },
   "source": [
    "# AOS vs SOA\n",
    "\n",
    "<center><img src=\"aos.png\"/></center>\n",
    "<center><img src=\"soa.png\"/></center>"
   ]
  },
  {
   "cell_type": "markdown",
   "metadata": {
    "slideshow": {
     "slide_type": "subslide"
    }
   },
   "source": [
    "# Matrices\n",
    "<center><img src=\"condensed-matrix.png\" style=\"height:300px;\"/></center>\n",
    "<center><img src=\"symmetric.png\" style=\"height:400px;\"/></center>"
   ]
  },
  {
   "cell_type": "markdown",
   "metadata": {
    "slideshow": {
     "slide_type": "slide"
    }
   },
   "source": [
    "# What is included?\n",
    "\n",
    "* Algorithms for:\n",
    "    * **Pre-processing**, **Transformation**, **Analysis**, **Modeling**.\n",
    "\n",
    "<center><img src=\"intel-daal-all-data-analysis-stages.png\"/></center>"
   ]
  }
 ],
 "metadata": {
  "celltoolbar": "Slideshow",
  "kernelspec": {
   "display_name": "Python 3",
   "language": "python",
   "name": "python3"
  },
  "language_info": {
   "codemirror_mode": {
    "name": "ipython",
    "version": 3
   },
   "file_extension": ".py",
   "mimetype": "text/x-python",
   "name": "python",
   "nbconvert_exporter": "python",
   "pygments_lexer": "ipython3",
   "version": "3.5.1"
  }
 },
 "nbformat": 4,
 "nbformat_minor": 0
}
